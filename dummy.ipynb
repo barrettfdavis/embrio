#!/usr/bin/env python
# coding: utf-8

# <img src="../images/ipython_logo.png">

# Back to the main [Index](../Index.ipynb)

# # IPython Kernel

# IPython provides extensions to the Python programming language that make working interactively convenient and efficient. These extensions are implemented in the IPython Kernel and are available in all of the IPython Frontends (Notebook, Terminal, Console and Qt Console) when running this kernel.

# ## Tutorials

# * [Cell Magics](Cell Magics.ipynb)
# * [Script Magics](Script Magics.ipynb)
# * [Rich Output](Rich Output.ipynb)
# * [Custom Display Logic](Custom Display Logic.ipynb)
# * [Plotting in the Notebook](Plotting in the Notebook.ipynb)
# * [Capturing Output](Capturing Output.ipynb)

# ## Examples

# * [Background Jobs](Background Jobs.ipynb)
# * [Trapezoid Rule](Trapezoid Rule.ipynb)
# * [SymPy](SymPy.ipynb)
# * [Raw Input in the Notebook](Raw Input in the Notebook.ipynb)
# * [Importing Notebooks](Importing Notebooks.ipynb)

# ## Non-notebook examples

# This directory also contains examples that are regular Python (`.py`) files.

# In[1]:


get_ipython().run_line_magic('run', '../utils/list_pyfiles.ipy')


# There are also a set of examples that show how to integrate IPython with different GUI event loops:

# In[2]:


get_ipython().run_line_magic('run', '../utils/list_subdirs.ipy')
